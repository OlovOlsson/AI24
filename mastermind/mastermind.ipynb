{
 "cells": [
  {
   "cell_type": "code",
   "execution_count": 53,
   "metadata": {},
   "outputs": [
    {
     "name": "stdout",
     "output_type": "stream",
     "text": [
      "Du har 12 försök kvar \n",
      "Ogilitigt försök, försök igen\n",
      "Ogilitigt försök, försök igen\n",
      "Ogilitigt försök, försök igen\n"
     ]
    },
    {
     "ename": "KeyboardInterrupt",
     "evalue": "Interrupted by user",
     "output_type": "error",
     "traceback": [
      "\u001b[1;31m---------------------------------------------------------------------------\u001b[0m",
      "\u001b[1;31mKeyboardInterrupt\u001b[0m                         Traceback (most recent call last)",
      "Cell \u001b[1;32mIn[53], line 106\u001b[0m\n\u001b[0;32m    102\u001b[0m         \u001b[38;5;28mprint\u001b[39m(\u001b[38;5;124m\"\u001b[39m\u001b[38;5;124mDu har nu slut på försök, du lyckades inte hitta färgföljden denna gång.\u001b[39m\u001b[38;5;124m\"\u001b[39m)\n\u001b[0;32m    105\u001b[0m \u001b[38;5;28;01mif\u001b[39;00m \u001b[38;5;18m__name__\u001b[39m\u001b[38;5;241m==\u001b[39m\u001b[38;5;124m'\u001b[39m\u001b[38;5;124m__main__\u001b[39m\u001b[38;5;124m'\u001b[39m:\n\u001b[1;32m--> 106\u001b[0m     \u001b[43mmain\u001b[49m\u001b[43m(\u001b[49m\u001b[43m)\u001b[49m\n",
      "Cell \u001b[1;32mIn[53], line 80\u001b[0m, in \u001b[0;36mmain\u001b[1;34m()\u001b[0m\n\u001b[0;32m     78\u001b[0m \u001b[38;5;28mprint\u001b[39m(\u001b[38;5;124mf\u001b[39m\u001b[38;5;124m'\u001b[39m\u001b[38;5;124mDu har \u001b[39m\u001b[38;5;132;01m{\u001b[39;00mattempts_left\u001b[38;5;132;01m}\u001b[39;00m\u001b[38;5;124m försök kvar \u001b[39m\u001b[38;5;124m'\u001b[39m)\n\u001b[0;32m     79\u001b[0m \u001b[38;5;28;01mwhile\u001b[39;00m \u001b[38;5;28;01mTrue\u001b[39;00m:\n\u001b[1;32m---> 80\u001b[0m     raw_input \u001b[38;5;241m=\u001b[39m \u001b[38;5;28;43minput\u001b[39;49m\u001b[43m(\u001b[49m\u001b[38;5;124;43m\"\u001b[39;49m\u001b[38;5;124;43mGissa på en rad med fyra sifror 1-6 (t.ex. 1561)\u001b[39;49m\u001b[38;5;124;43m\"\u001b[39;49m\u001b[43m)\u001b[49m\n\u001b[0;32m     82\u001b[0m     my_guess \u001b[38;5;241m=\u001b[39m [i \u001b[38;5;28;01mfor\u001b[39;00m i \u001b[38;5;129;01min\u001b[39;00m raw_input]\n\u001b[0;32m     84\u001b[0m     valid_guess \u001b[38;5;241m=\u001b[39m check_if_valid(my_guess, valid_colors, elements_in_row)\n",
      "File \u001b[1;32m~\\AppData\\Roaming\\Python\\Python312\\site-packages\\ipykernel\\kernelbase.py:1282\u001b[0m, in \u001b[0;36mKernel.raw_input\u001b[1;34m(self, prompt)\u001b[0m\n\u001b[0;32m   1280\u001b[0m     msg \u001b[38;5;241m=\u001b[39m \u001b[38;5;124m\"\u001b[39m\u001b[38;5;124mraw_input was called, but this frontend does not support input requests.\u001b[39m\u001b[38;5;124m\"\u001b[39m\n\u001b[0;32m   1281\u001b[0m     \u001b[38;5;28;01mraise\u001b[39;00m StdinNotImplementedError(msg)\n\u001b[1;32m-> 1282\u001b[0m \u001b[38;5;28;01mreturn\u001b[39;00m \u001b[38;5;28;43mself\u001b[39;49m\u001b[38;5;241;43m.\u001b[39;49m\u001b[43m_input_request\u001b[49m\u001b[43m(\u001b[49m\n\u001b[0;32m   1283\u001b[0m \u001b[43m    \u001b[49m\u001b[38;5;28;43mstr\u001b[39;49m\u001b[43m(\u001b[49m\u001b[43mprompt\u001b[49m\u001b[43m)\u001b[49m\u001b[43m,\u001b[49m\n\u001b[0;32m   1284\u001b[0m \u001b[43m    \u001b[49m\u001b[38;5;28;43mself\u001b[39;49m\u001b[38;5;241;43m.\u001b[39;49m\u001b[43m_parent_ident\u001b[49m\u001b[43m[\u001b[49m\u001b[38;5;124;43m\"\u001b[39;49m\u001b[38;5;124;43mshell\u001b[39;49m\u001b[38;5;124;43m\"\u001b[39;49m\u001b[43m]\u001b[49m\u001b[43m,\u001b[49m\n\u001b[0;32m   1285\u001b[0m \u001b[43m    \u001b[49m\u001b[38;5;28;43mself\u001b[39;49m\u001b[38;5;241;43m.\u001b[39;49m\u001b[43mget_parent\u001b[49m\u001b[43m(\u001b[49m\u001b[38;5;124;43m\"\u001b[39;49m\u001b[38;5;124;43mshell\u001b[39;49m\u001b[38;5;124;43m\"\u001b[39;49m\u001b[43m)\u001b[49m\u001b[43m,\u001b[49m\n\u001b[0;32m   1286\u001b[0m \u001b[43m    \u001b[49m\u001b[43mpassword\u001b[49m\u001b[38;5;241;43m=\u001b[39;49m\u001b[38;5;28;43;01mFalse\u001b[39;49;00m\u001b[43m,\u001b[49m\n\u001b[0;32m   1287\u001b[0m \u001b[43m\u001b[49m\u001b[43m)\u001b[49m\n",
      "File \u001b[1;32m~\\AppData\\Roaming\\Python\\Python312\\site-packages\\ipykernel\\kernelbase.py:1325\u001b[0m, in \u001b[0;36mKernel._input_request\u001b[1;34m(self, prompt, ident, parent, password)\u001b[0m\n\u001b[0;32m   1322\u001b[0m \u001b[38;5;28;01mexcept\u001b[39;00m \u001b[38;5;167;01mKeyboardInterrupt\u001b[39;00m:\n\u001b[0;32m   1323\u001b[0m     \u001b[38;5;66;03m# re-raise KeyboardInterrupt, to truncate traceback\u001b[39;00m\n\u001b[0;32m   1324\u001b[0m     msg \u001b[38;5;241m=\u001b[39m \u001b[38;5;124m\"\u001b[39m\u001b[38;5;124mInterrupted by user\u001b[39m\u001b[38;5;124m\"\u001b[39m\n\u001b[1;32m-> 1325\u001b[0m     \u001b[38;5;28;01mraise\u001b[39;00m \u001b[38;5;167;01mKeyboardInterrupt\u001b[39;00m(msg) \u001b[38;5;28;01mfrom\u001b[39;00m \u001b[38;5;28;01mNone\u001b[39;00m\n\u001b[0;32m   1326\u001b[0m \u001b[38;5;28;01mexcept\u001b[39;00m \u001b[38;5;167;01mException\u001b[39;00m:\n\u001b[0;32m   1327\u001b[0m     \u001b[38;5;28mself\u001b[39m\u001b[38;5;241m.\u001b[39mlog\u001b[38;5;241m.\u001b[39mwarning(\u001b[38;5;124m\"\u001b[39m\u001b[38;5;124mInvalid Message:\u001b[39m\u001b[38;5;124m\"\u001b[39m, exc_info\u001b[38;5;241m=\u001b[39m\u001b[38;5;28;01mTrue\u001b[39;00m)\n",
      "\u001b[1;31mKeyboardInterrupt\u001b[0m: Interrupted by user"
     ]
    }
   ],
   "source": [
    "import random\n",
    "\n",
    "# Slumpar fram en rad som spelaren ska försöka gissa.\n",
    "# Denna metod kan utvecklas beroende på vilka regler som gäller för raden.\n",
    "def get_random_row(valid_colors:list, elements_in_row:int): \n",
    "    the_row = [random.choice(valid_colors) for i in range(elements_in_row)]\n",
    "   \n",
    "    return the_row\n",
    "\n",
    "# Kontrollerar om den av spelaren inmatade raden är giltig. Returnerar False eller True\n",
    "def check_if_valid(my_guess:list, valid_colors:list, elements_in_row:int):\n",
    "    if len(my_guess)!=elements_in_row:\n",
    "        return False\n",
    "    \n",
    "    for color in my_guess:\n",
    "        if not color in valid_colors:\n",
    "            return False\n",
    "    \n",
    "    return True\n",
    "\n",
    "\n",
    "# Rättar den inmatade raden och skriver ut resultatet\n",
    "def check_row(guessed_row:list, correct_row:list):\n",
    "    \n",
    "    copy_of_guess = guessed_row.copy()\n",
    "    \n",
    "\n",
    "    right_place = 0 #Rätt färg på rätt plats \n",
    "    right_color = 0 # Rätt färg men på fel plats\n",
    "\n",
    "\n",
    "    for index, (guessed_color, correct_color) in enumerate(zip(guessed_row, correct_row)):\n",
    "        if guessed_color == correct_color:\n",
    "            right_place +=1\n",
    "            guessed_row[index]=\"0\"\n",
    "            correct_row[index] =\"0\"\n",
    "\n",
    "\n",
    " \n",
    "    \n",
    "    for i, guessed_color in enumerate(guessed_row):\n",
    "        for j, correct_color in enumerate(correct_row):\n",
    "\n",
    "            if guessed_color != \"0\" and correct_color!=\"0\" and guessed_color==correct_color:\n",
    "                right_color +=1\n",
    "\n",
    "\n",
    "                guessed_row[i] = \"0\"\n",
    "                correct_row[j] = \"0\"\n",
    "\n",
    "                break\n",
    "\n",
    "\n",
    "    print(f'Du har {right_place} rätt färg på rätt plats')\n",
    "    print(f'Du har {right_color} rätt färg på fel plats')\n",
    "    print(f'Här är din rad: {copy_of_guess}')\n",
    "    print()\n",
    "\n",
    "\n",
    "\n",
    "\n",
    "\n",
    "\n",
    "def main():\n",
    "\n",
    "    num_of_row = 12\n",
    "\n",
    "\n",
    "\n",
    "    valid_colors = ['1','2','3','4','5','6']\n",
    "    elements_in_row = 4\n",
    "\n",
    "    the_row = get_random_row(valid_colors, elements_in_row)\n",
    "    #the_row = ['1','2','3','4']  # Kan avkommenteras för att kontrollera programmet\n",
    "\n",
    "\n",
    "    for attempts_left in range(num_of_row,0,-1):\n",
    "        print(f'Du har {attempts_left} försök kvar ')\n",
    "        while True:\n",
    "            raw_input = input(\"Gissa på en rad med fyra sifror 1-6 (t.ex. 1561)\")\n",
    "\n",
    "            my_guess = [i for i in raw_input]\n",
    "\n",
    "            valid_guess = check_if_valid(my_guess, valid_colors, elements_in_row)\n",
    "\n",
    "            if valid_guess:\n",
    "                break\n",
    "            else:\n",
    "                print('Ogilitigt försök, försök igen')\n",
    "        \n",
    "\n",
    "        if my_guess== the_row:\n",
    "            print(f'Grattis du hittade färgföljden på {num_of_row-attempts_left+1} försök.')\n",
    "            print(f'Den rätta färgföljden var {the_row}')\n",
    "            break\n",
    "        else:\n",
    "            check_row(my_guess.copy(), the_row.copy())\n",
    "\n",
    "\n",
    "    else:\n",
    "        # Körs enbart om den rätta raden inte hittades.\n",
    "        print(\"Du har nu slut på försök, du lyckades inte hitta färgföljden denna gång.\")\n",
    "\n",
    "\n",
    "if __name__=='__main__':\n",
    "    main()\n",
    "\n"
   ]
  },
  {
   "cell_type": "code",
   "execution_count": null,
   "metadata": {},
   "outputs": [],
   "source": []
  },
  {
   "cell_type": "code",
   "execution_count": 38,
   "metadata": {},
   "outputs": [
    {
     "name": "stdout",
     "output_type": "stream",
     "text": [
      "[1, 2, 6, 4, 5]\n"
     ]
    }
   ],
   "source": [
    "def swap(y):\n",
    "    y[2] = 6\n",
    "\n",
    "h =[1,2,3,4,5]\n",
    "\n",
    "\n",
    "swap(h)\n",
    "\n",
    "print(h)"
   ]
  }
 ],
 "metadata": {
  "kernelspec": {
   "display_name": "Python 3",
   "language": "python",
   "name": "python3"
  },
  "language_info": {
   "codemirror_mode": {
    "name": "ipython",
    "version": 3
   },
   "file_extension": ".py",
   "mimetype": "text/x-python",
   "name": "python",
   "nbconvert_exporter": "python",
   "pygments_lexer": "ipython3",
   "version": "3.12.5"
  }
 },
 "nbformat": 4,
 "nbformat_minor": 2
}
